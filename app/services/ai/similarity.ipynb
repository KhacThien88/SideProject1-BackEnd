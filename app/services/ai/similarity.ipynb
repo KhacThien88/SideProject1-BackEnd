{
 "cells": [
  {
   "cell_type": "code",
   "execution_count": 1,
   "metadata": {
    "metadata": {}
   },
   "outputs": [],
   "source": [
    "import boto3\n",
    "import json\n",
    "from concurrent.futures import ThreadPoolExecutor, as_completed\n",
    "from requests_aws4auth import AWS4Auth\n",
    "from opensearchpy import OpenSearch, RequestsHttpConnection\n",
    "from dotenv import load_dotenv\n",
    "import os"
   ]
  },
  {
   "cell_type": "code",
   "execution_count": 2,
   "metadata": {
    "metadata": {}
   },
   "outputs": [
    {
     "data": {
      "text/plain": [
       "True"
      ]
     },
     "execution_count": 2,
     "metadata": {},
     "output_type": "execute_result"
    }
   ],
   "source": [
    "# Khởi tạo client Bedrock Runtime\n",
    "bedrock = boto3.client(\"bedrock-runtime\", region_name=\"ap-southeast-2\")\n",
    "model_id = \"amazon.titan-embed-text-v2:0\"\n",
    "load_dotenv()"
   ]
  },
  {
   "cell_type": "code",
   "execution_count": 3,
   "metadata": {
    "metadata": {}
   },
   "outputs": [],
   "source": [
    "cv_json = {\n",
    "    \"full_name\": \"Truong Quoc Huan\",\n",
    "    \"email_address\": \"truonghuan0709@gmail.com\",\n",
    "    \"phone_number\": \"+84 335597676\",\n",
    "    \"location\": \"Ho Chi Minh City, Viet Nam\",\n",
    "    \"summary\": \"Over 2 years of experience in programming with good communication and quick learning skills. Strengths include back-end web application development, with solid expertise in backend technologies and architecture design. Experienced in working in Agile environments using Scrum methodology.\",\n",
    "    \"skills\": [\n",
    "        \"JavaScript\",\n",
    "        \"TypeScript\",\n",
    "        \"Go\",\n",
    "        \"Node (ExpressJS, NestJS)\",\n",
    "        \"Go (Gin)\",\n",
    "        \"MySQL\",\n",
    "        \"PostgreSQL\",\n",
    "        \"NoSQL (MongoDB)\",\n",
    "        \"API & DevOps: RESTful API, gRPC, Swagger/OpenAPI, Postman, Docker, CI/CD (GitHub Actions, Jenkins)\",\n",
    "        \"Infrastructure: Kubernetes (K8s), Apache, Nginx, Redis, Memcached, Queue systems, Logging systems, Cronjobs\",\n",
    "        \"Monitoring & Automation: Zabbix, Selenium\"\n",
    "    ],\n",
    "    \"work_experience\": [\n",
    "        {\n",
    "            \"job_title\": \"DevOps Engineer\",\n",
    "            \"company\": \"Personal Project\",\n",
    "            \"duration\": \"04/2025 - Present\",\n",
    "            \"description\": \"Learn and practice devops project. System implementation and maintenance.\"\n",
    "        },\n",
    "        {\n",
    "            \"job_title\": \"Developer\",\n",
    "            \"company\": \"Practice and final project for graduate scheme\",\n",
    "            \"duration\": \"01/2025 - 04/2025\",\n",
    "            \"description\": \"Developer for a series of practical laboratory exercises focused on distributed systems concepts and implementations.\"\n",
    "        },\n",
    "        {\n",
    "            \"job_title\": \"Backend developer\",\n",
    "            \"company\": \"Personal Project\",\n",
    "            \"duration\": \"12/2024 - 04/2025\",\n",
    "            \"description\": \"Project to learn and practice developing backend applications with Go language with the content of building a train ticket sales website.\"\n",
    "        },\n",
    "        {\n",
    "            \"job_title\": \"Backend developer\",\n",
    "            \"company\": \"Personal Project\",\n",
    "            \"duration\": \"09/2024 - 03/2025\",\n",
    "            \"description\": \"Modular backend system using NestJS, MongoDB, JWT Auth and Swagger. The project is suitable for recruitment, user management, and enterprise platforms.\"\n",
    "        },\n",
    "        {\n",
    "            \"job_title\": \"Backend developer\",\n",
    "            \"company\": \"College graduation project\",\n",
    "            \"duration\": \"02/2024 - 06/2024\",\n",
    "            \"description\": \"Student management website and uses AI to generate SQL questions for database subjects.\"\n",
    "        }\n",
    "    ],\n",
    "    \"education\": [\n",
    "        {\n",
    "            \"degree\": \"Major - Information System\",\n",
    "            \"institution\": \"VNU - Ho Chi Minh University of Science\",\n",
    "            \"graduation_year\": \"2024/09\"\n",
    "        }\n",
    "    ],\n",
    "    \"certifications\": [\n",
    "        \"Not Available\"\n",
    "    ],\n",
    "    \"languages\": [\n",
    "        \"English\"\n",
    "    ],\n",
    "    \"projects\": [\n",
    "        {\n",
    "            \"name\": \"ElroyDevops\",\n",
    "            \"description\": \"Learn and practice devops project.\",\n",
    "            \"duration\": \"04/2025 - Present\",\n",
    "            \"technologies_used\": [\n",
    "                \"ReactJS\",\n",
    "                \"Java Spring Boot\",\n",
    "                \"MariaDB\",\n",
    "                \"Docker\",\n",
    "                \"Kubernetes\",\n",
    "                \"Zabbix\"\n",
    "            ]\n",
    "        },\n",
    "        {\n",
    "            \"name\": \"Distributed System\",\n",
    "            \"description\": \"This repository contains a series of practical laboratory exercises focused on distributed systems concepts and implementations.\",\n",
    "            \"duration\": \"01/2025 - 04/2025\",\n",
    "            \"technologies_used\": [\n",
    "                \"Go (Golang)\",\n",
    "                \"TCP/IP sockets\",\n",
    "                \"Remote Procedure Call (RPC)\",\n",
    "                \"Message Queue patterns\",\n",
    "                \"Consistent Hashing algorithm\",\n",
    "                \"Two-Phase Commit (2PC) protocol\"\n",
    "            ]\n",
    "        },\n",
    "        {\n",
    "            \"name\": \"Go to Work\",\n",
    "            \"description\": \"Project to learn and practice developing backend applications with Go language with the content of building a train ticket sales website.\",\n",
    "            \"duration\": \"12/2024 - 04/2025\",\n",
    "            \"technologies_used\": [\n",
    "                \"Golang\",\n",
    "                \"Gin framework\",\n",
    "                \"MySQL\",\n",
    "                \"GORM\",\n",
    "                \"Redis\",\n",
    "                \"Kafka\",\n",
    "                \"Docker\",\n",
    "                \"Docker Compose\",\n",
    "                \"Makefile\"\n",
    "            ]\n",
    "        },\n",
    "        {\n",
    "            \"name\": \"NestProject\",\n",
    "            \"description\": \"Modular backend system using NestJS, MongoDB, JWT Auth and Swagger. The project is suitable for recruitment, user management, and enterprise platforms.\",\n",
    "            \"duration\": \"09/2024 - 03/2025\",\n",
    "            \"technologies_used\": [\n",
    "                \"NestJS\",\n",
    "                \"TypeScript\",\n",
    "                \"MongoDB (Mongoose)\",\n",
    "                \"JWT Auth\",\n",
    "                \"Swagger\",\n",
    "                \"EJS\"\n",
    "            ]\n",
    "        },\n",
    "        {\n",
    "            \"name\": \"SIEU-DAO-CHICH GAME\",\n",
    "            \"description\": \"Student management website and uses AI to generate SQL questions for database subjects.\",\n",
    "            \"duration\": \"02/2024 - 06/2024\",\n",
    "            \"technologies_used\": [\n",
    "                \"Node.js\",\n",
    "                \"Express.js\",\n",
    "                \"Sequelize\",\n",
    "                \"Passport.js\",\n",
    "                \"JWT\",\n",
    "                \"bcrypt\",\n",
    "                \"dotenv\",\n",
    "                \"Nodemailer\",\n",
    "                \"EJS\",\n",
    "                \"PostgreSQL/MySQL\"\n",
    "            ]\n",
    "        }\n",
    "    ],\n",
    "    \"references\": [\n",
    "        \"Not Available\"\n",
    "    ],\n",
    "    \"linkedin_profile\": \"Not Available\",\n",
    "    \"github_profile\": \"Not Available\",\n",
    "    \"portfolio_website\": \"Not Available\"\n",
    "}"
   ]
  },
  {
   "cell_type": "code",
   "execution_count": 4,
   "metadata": {
    "metadata": {}
   },
   "outputs": [],
   "source": [
    "cv_fields = [\"role\", \"work_experience\", \"skills\", \"summary\", \"projects\"]\n",
    "jd_fields = [\"job_title\", \"responsibilities\", \"requirements\"]"
   ]
  },
  {
   "cell_type": "code",
   "execution_count": 5,
   "metadata": {
    "metadata": {}
   },
   "outputs": [],
   "source": [
    "def get_bedrock_emb(text: str):\n",
    "    if not text.strip():\n",
    "        return None\n",
    "    body = json.dumps({\n",
    "        \"inputText\": text\n",
    "    })\n",
    "    response = bedrock.invoke_model(\n",
    "        modelId=model_id,\n",
    "        body=body,\n",
    "        contentType=\"application/json\",\n",
    "        accept=\"application/json\"\n",
    "    )\n",
    "    result = json.loads(response[\"body\"].read().decode())\n",
    "    return result[\"embedding\"]"
   ]
  },
  {
   "cell_type": "code",
   "execution_count": 6,
   "metadata": {
    "metadata": {}
   },
   "outputs": [],
   "source": [
    "def emb_json_fields(json_data: dict, fields: list, max_workers: int = 6):\n",
    "    embeddings = {}\n",
    "    def process_field(field):\n",
    "        value = json_data.get(field, \"\")\n",
    "        \n",
    "        if isinstance(value, list):\n",
    "            text = \" \".join([json.dumps(item) if isinstance(item, dict) else str(item) for item in value])\n",
    "        elif isinstance(value, dict):\n",
    "            text = json.dumps(value)\n",
    "        else:\n",
    "            text = str(value)\n",
    "        \n",
    "        vector = get_bedrock_emb(text)\n",
    "        return field, vector\n",
    "    with ThreadPoolExecutor(max_workers=max_workers) as executor:\n",
    "        futures = {executor.submit(process_field, field): field for field in fields}\n",
    "        for future in as_completed(futures):\n",
    "            field = futures[future]\n",
    "            try:\n",
    "                field, vector = future.result()\n",
    "                embeddings[f\"Embed_{field}\"] = vector\n",
    "            except Exception as e:\n",
    "                print(f\"Error processing field {field}: {e}\")\n",
    "                embeddings[field] = None\n",
    "    return embeddings\n"
   ]
  },
  {
   "cell_type": "code",
   "execution_count": 7,
   "metadata": {
    "metadata": {}
   },
   "outputs": [],
   "source": [
    "cv_embeddings = emb_json_fields(cv_json, cv_fields)\n",
    "cv_json.update(cv_embeddings)"
   ]
  },
  {
   "cell_type": "code",
   "execution_count": 8,
   "metadata": {
    "metadata": {}
   },
   "outputs": [],
   "source": [
    "#save cv_data to json file\n",
    "with open(\"cv_data_with_embeddings.json\", \"w\") as f:\n",
    "    json.dump(cv_json, f, indent=4)"
   ]
  },
  {
   "cell_type": "code",
   "execution_count": 9,
   "metadata": {
    "metadata": {}
   },
   "outputs": [],
   "source": [
    "region = \"ap-southeast-2\"\n",
    "service = \"es\"\n",
    "credentials = boto3.Session().get_credentials()\n",
    "awsauth = AWS4Auth(credentials.access_key,\n",
    "                   credentials.secret_key,\n",
    "                   region, service,\n",
    "                   session_token=credentials.token)"
   ]
  },
  {
   "cell_type": "code",
   "execution_count": 10,
   "metadata": {
    "metadata": {}
   },
   "outputs": [
    {
     "name": "stdout",
     "output_type": "stream",
     "text": [
      "OpenSearch Domain: search-cv-job-database-sw3qxa7bamcbgr7cu3uafl2cny.aos.ap-southeast-2.on.aws\n"
     ]
    }
   ],
   "source": [
    "open_search_domain = os.getenv(\"OPENSEARCH_DOMAIN_ENDPOINT\")\n",
    "open_search_domain = open_search_domain.replace(\"https://\", \"\")\n",
    "print(\"OpenSearch Domain:\", open_search_domain)"
   ]
  },
  {
   "cell_type": "code",
   "execution_count": 11,
   "metadata": {
    "metadata": {}
   },
   "outputs": [],
   "source": [
    "client = OpenSearch(\n",
    "    hosts=[{\"host\": open_search_domain, \"port\": 443}],\n",
    "    http_auth=awsauth,\n",
    "    use_ssl=True,\n",
    "    verify_certs=True,\n",
    "    connection_class=RequestsHttpConnection\n",
    ")"
   ]
  },
  {
   "cell_type": "code",
   "execution_count": 15,
   "metadata": {
    "metadata": {}
   },
   "outputs": [
    {
     "name": "stdout",
     "output_type": "stream",
     "text": [
      "✅ Connected to: 477476326438:cv-job-database\n"
     ]
    }
   ],
   "source": [
    "info = client.info()\n",
    "print(\"✅ Connected to:\", info[\"cluster_name\"])"
   ]
  }
 ],
 "metadata": {
  "kernelspec": {
   "display_name": "base",
   "language": "python",
   "name": "python3"
  },
  "language_info": {
   "codemirror_mode": {
    "name": "ipython",
    "version": 3
   },
   "file_extension": ".py",
   "mimetype": "text/x-python",
   "name": "python",
   "nbconvert_exporter": "python",
   "pygments_lexer": "ipython3",
   "version": "3.13.5"
  }
 },
 "nbformat": 4,
 "nbformat_minor": 2
}
