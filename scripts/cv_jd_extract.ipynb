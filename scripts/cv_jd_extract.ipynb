{
 "cells": [
  {
   "cell_type": "code",
   "execution_count": null,
   "metadata": {
    "metadata": {}
   },
   "outputs": [],
   "source": [
    "!pip install easyocr\n",
    "!pip install boto3\n",
    "!pip install transformers\n",
    "!pip install pdf2image\n",
    "!pip install langdetect"
   ]
  },
  {
   "cell_type": "code",
   "execution_count": 2,
   "metadata": {
    "metadata": {}
   },
   "outputs": [],
   "source": [
    "import easyocr\n",
    "from pdf2image import convert_from_path\n",
    "import os\n",
    "import numpy as np\n",
    "import boto3\n",
    "import json\n",
    "import re\n",
    "from botocore.exceptions import ClientError\n",
    "from langdetect.lang_detect_exception import LangDetectException\n",
    "from langdetect import detect "
   ]
  },
  {
   "cell_type": "code",
   "execution_count": 3,
   "metadata": {
    "metadata": {}
   },
   "outputs": [],
   "source": [
    "def ocr_doc(path):\n",
    "    ocr_text = ''\n",
    "    reader = easyocr.Reader(ocr_langs)\n",
    "    if path.endswith('.pdf'):\n",
    "        images = convert_from_path(path)\n",
    "        ocr_result = []\n",
    "        for image in images:\n",
    "            ocr_result.extend(reader.readtext(np.array(image)))\n",
    "    else:\n",
    "        ocr_result = reader.readtext(path)\n",
    "    for res in ocr_result:\n",
    "        ocr_text += res[1] + '\\n'\n",
    "    return ocr_text.strip()"
   ]
  },
  {
   "cell_type": "code",
   "execution_count": 4,
   "metadata": {
    "metadata": {}
   },
   "outputs": [],
   "source": [
    "cv_prompt_template = f\"\"\"\n",
    "You are an expert at extracting structured information from unstructured text.\n",
    "Do not make up any information.\n",
    "Extract the following information from the resume text below:\n",
    "1. Full Name\n",
    "2. Email Address\n",
    "3. Phone Number\n",
    "4. Location\n",
    "5. Skills (list of skills)\n",
    "6. Work Experience (list of job titles and companies)\n",
    "7. Education (list of degrees and institutions)\n",
    "8. Certifications (list of certifications)\n",
    "9. Languages (list of languages spoken)\n",
    "10. Projects (list of notable projects with descriptions and duration)\n",
    "11. Summary (a brief summary of the candidate)\n",
    "12. LinkedIn Profile (URL of the LinkedIn profile)\n",
    "13. GitHub Profile (URL of the GitHub profile)\n",
    "14. Portfolio Website (URL of the portfolio website)\n",
    "15. References (list of references if available)\n",
    "Format the output as a JSON object with the above fields. If any information is not available, use \"Not Available\" as the value.\n",
    "The JSON format must adhere to the following structure:\n",
    "{{\n",
    "  \"full_name\": \"string\",\n",
    "  \"email_address\": \"string\",\n",
    "  \"phone_number\": \"string\",\n",
    "  \"location\": \"string\",\n",
    "  \"summary\": \"string\",\n",
    "  \"linkedin_profile\": \"URL string or null\",\n",
    "  \"github_profile\": \"URL string or null\",\n",
    "  \"portfolio_website\": \"URL string or null\",\n",
    "  \"skills\": [\"string\", \"string\", \"...\"],\n",
    "  \"work_experience\": [\n",
    "    {{\n",
    "      \"job_title\": \"string\",\n",
    "      \"company\": \"string\",\n",
    "      \"duration\": \"string\",\n",
    "      \"description\": \"string\"\n",
    "    }}\n",
    "  ],\n",
    "  \"education\": [\n",
    "    {{\n",
    "      \"degree\": \"string\",\n",
    "      \"institution\": \"string\",\n",
    "      \"graduation_year\": \"string\"\n",
    "    }}\n",
    "  ],\n",
    "  \"certifications\": [\"string\", \"string\", \"...\"],\n",
    "  \"languages\": [\"string\", \"string\", \"...\"],\n",
    "  \"projects\": [\"string\", \"string\", \"...\"],\n",
    "  \"references\": [\"string\", \"string\", \"...\"]\n",
    "}}\n",
    "Here is the resume text:\n",
    "\"\"\"\n",
    "\n",
    "job_prompt_template = f\"\"\"\n",
    "You are an expert at extracting structured information from unstructured text.\n",
    "Do not make up any information.\n",
    "Extract the following information from the job description text below:\n",
    "1. Job Title\n",
    "2. Company Name\n",
    "3. Location\n",
    "4. Job Type (e.g., full-time, part-time, remote)\n",
    "5. Salary Range\n",
    "6. Responsibilities (list of key responsibilities)\n",
    "7. Requirements (list of required skills, education, and experience)\n",
    "8. Benefits (list of benefits offered)\n",
    "9. Application Instructions (how to apply)\n",
    "10. Contact Information (email or phone if available)\n",
    "11. Company Website (URL if available)\n",
    "12. Posting Date (date the job was posted if available)\n",
    "13. Required Certifications (list if any)\n",
    "14. Preferred Languages (list if any)\n",
    "Format the output as a JSON object with the above fields. If any information is not available, use \"Not Available\" as the value.\n",
    "The JSON format must adhere to the following structure:\n",
    "{{\n",
    "  \"job_title\": \"string\",\n",
    "  \"company_name\": \"string\",\n",
    "  \"location\": \"string\",\n",
    "  \"job_type\": \"string\",\n",
    "  \"salary_range\": \"string\",\n",
    "  \"company_website\": \"URL string or null\",\n",
    "  \"posting_date\": \"string\",\n",
    "  \"contact_information\": \"string\",\n",
    "  \"responsibilities\": [\"string\", \"string\", \"...\"],\n",
    "  \"requirements\": [\"string\", \"string\", \"...\"],\n",
    "  \"benefits\": [\"string\", \"string\", \"...\"],\n",
    "  \"application_instructions\": \"string\",\n",
    "  \"required_certifications\": [\"string\", \"string\", \"...\"],\n",
    "  \"preferred_languages\": [\"string\", \"string\", \"...\"]\n",
    "}}\n",
    "Here is the job description text:\n",
    "\"\"\""
   ]
  },
  {
   "cell_type": "code",
   "execution_count": 13,
   "metadata": {
    "metadata": {}
   },
   "outputs": [],
   "source": [
    "def extract_info_with_bedrock(raw_txt, prompt_template, model_arn=None, region_name='ap-southeast-1'):\n",
    "    \"\"\"\n",
    "    Hàm tổng quát để extract structured info từ text bằng AWS Bedrock.\n",
    "    \n",
    "    Args:\n",
    "        raw_txt (str): Văn bản đầu vào (CV, Job Description, v.v.)\n",
    "        prompt_template (str): Prompt template của CV hoặc Job Description\n",
    "        model_arn (str): ARN của inference profile hoặc modelId Bedrock\n",
    "        region_name (str): Vùng AWS nơi Bedrock được triển khai\n",
    "    \"\"\"\n",
    "    if model_arn is None:\n",
    "        return {\"error\": \"Model ARN is required\"}\n",
    "\n",
    "    #  thêm raw text vào prompt\n",
    "    prompt = prompt_template + \"\\n\" + raw_txt\n",
    "\n",
    "    client = boto3.client('bedrock-runtime', region_name=region_name)\n",
    "\n",
    "    try:\n",
    "        response = client.converse(\n",
    "            modelId=model_arn,\n",
    "            messages=[{\"role\": \"user\", \"content\": [{\"text\": prompt}]}],\n",
    "            inferenceConfig={\"maxTokens\": 2000, \"temperature\": 0.1, \"topP\": 0.9}\n",
    "        )\n",
    "\n",
    "        # Lấy response text\n",
    "        response_text = response[\"output\"][\"message\"][\"content\"][0][\"text\"].strip()\n",
    "\n",
    "        # Clean markdown\n",
    "        if response_text.startswith(\"```json\"):\n",
    "            response_text = response_text.replace(\"```json\", \"\").strip()\n",
    "        if response_text.endswith(\"```\"):\n",
    "            response_text = response_text.rstrip(\"```\").strip()\n",
    "\n",
    "        # Parse JSON\n",
    "        try:\n",
    "            extracted_json = json.loads(response_text)\n",
    "        except json.JSONDecodeError:\n",
    "            extracted_json = {\"error\": \"Failed to parse JSON\", \"raw_output\": response_text}\n",
    "\n",
    "        return extracted_json\n",
    "\n",
    "    except Exception as e:\n",
    "        return {\"error\": f\"Bedrock invocation failed: {str(e)}\"}\n"
   ]
  },
  {
   "cell_type": "code",
   "execution_count": 21,
   "metadata": {
    "metadata": {}
   },
   "outputs": [],
   "source": [
    "def translate_with_bedrock(raw_txt, model_arn=None, region_name='ap-southeast-1'):\n",
    "    \"\"\"\n",
    "    Hàm dịch văn bản sang tiếng Anh bằng AWS Bedrock.\n",
    "    \n",
    "    Args:\n",
    "        raw_txt (str): Văn bản đầu vào cần dịch\n",
    "        model_arn (str): ARN của inference profile hoặc modelId Bedrock\n",
    "        region_name (str): Vùng AWS nơi Bedrock được triển khai\n",
    "    \"\"\"\n",
    "    if model_arn is None:\n",
    "        return {\"error\": \"Model ARN is required\"}\n",
    "\n",
    "    prompt = f'''\n",
    "    Translate the following text to English:\\n{raw_txt}\\n\n",
    "    Do not make up any information.\n",
    "    '''\n",
    "\n",
    "    client = boto3.client('bedrock-runtime', region_name=region_name)\n",
    "\n",
    "    try:\n",
    "        response = client.converse(\n",
    "            modelId=model_arn,\n",
    "            messages=[{\"role\": \"user\", \"content\": [{\"text\": prompt}]}],\n",
    "            inferenceConfig={\"maxTokens\": 2000, \"temperature\": 0.1, \"topP\": 0.9}\n",
    "        )\n",
    "        \n",
    "        response_text = response[\"output\"][\"message\"][\"content\"][0][\"text\"].strip()\n",
    "        return response_text\n",
    "\n",
    "    except Exception as e:\n",
    "        return {\"error\": f\"Bedrock invocation failed: {str(e)}\"}"
   ]
  },
  {
   "cell_type": "code",
   "execution_count": 15,
   "metadata": {
    "metadata": {}
   },
   "outputs": [],
   "source": [
    "def detect_and_translate(raw_txt, model_arn, region_name='ap-southeast-1'):\n",
    "    try:\n",
    "        lang = detect(raw_txt)\n",
    "        if lang != 'en':\n",
    "            translation_res = translate_with_bedrock(raw_txt, model_arn=model_arn, region_name=region_name)\n",
    "            return translation_res\n",
    "        return raw_txt  \n",
    "    except LangDetectException:\n",
    "        return raw_txt  \n"
   ]
  },
  {
   "cell_type": "code",
   "execution_count": 16,
   "metadata": {
    "metadata": {}
   },
   "outputs": [],
   "source": [
    "model_arn = \"arn:aws:bedrock:ap-southeast-1:677020944766:inference-profile/apac.amazon.nova-lite-v1:0\""
   ]
  },
  {
   "cell_type": "code",
   "execution_count": 19,
   "metadata": {
    "metadata": {}
   },
   "outputs": [
    {
     "name": "stderr",
     "output_type": "stream",
     "text": [
      "/Users/phucnguyen/miniconda3/lib/python3.13/site-packages/torch/utils/data/dataloader.py:684: UserWarning: 'pin_memory' argument is set as true but not supported on MPS now, then device pinned memory won't be used.\n",
      "  warnings.warn(warn_msg)\n"
     ]
    }
   ],
   "source": [
    "cv_path = \"../data/cv/test.jpg\"\n",
    "ocr_langs = ['en']\n",
    "cv_txt = ocr_doc(cv_path)\n",
    "cv_info = extract_info_with_bedrock(cv_txt, cv_prompt_template, model_arn=model_arn, region_name='ap-southeast-1')\n",
    "with open(\"cv_info.json\", \"w\") as f:\n",
    "    json.dump(cv_info, f, indent=4)"
   ]
  },
  {
   "cell_type": "code",
   "execution_count": 20,
   "metadata": {
    "metadata": {}
   },
   "outputs": [
    {
     "name": "stderr",
     "output_type": "stream",
     "text": [
      "/Users/phucnguyen/miniconda3/lib/python3.13/site-packages/torch/utils/data/dataloader.py:684: UserWarning: 'pin_memory' argument is set as true but not supported on MPS now, then device pinned memory won't be used.\n",
      "  warnings.warn(warn_msg)\n"
     ]
    }
   ],
   "source": [
    "jd_path = \"../data/cv/sample-job-description.pdf\"\n",
    "jd_text = ocr_doc(jd_path)\n",
    "jd_info = extract_info_with_bedrock(jd_text, job_prompt_template, model_arn=model_arn)\n",
    "with open(\"jd_info.json\", \"w\") as f:\n",
    "    json.dump(jd_info, f, indent=4)"
   ]
  }
 ],
 "metadata": {
  "kernelspec": {
   "display_name": "base",
   "language": "python",
   "name": "python3"
  },
  "language_info": {
   "codemirror_mode": {
    "name": "ipython",
    "version": 3
   },
   "file_extension": ".py",
   "mimetype": "text/x-python",
   "name": "python",
   "nbconvert_exporter": "python",
   "pygments_lexer": "ipython3",
   "version": "3.13.5"
  }
 },
 "nbformat": 4,
 "nbformat_minor": 2
}
