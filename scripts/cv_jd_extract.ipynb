{
 "cells": [
  {
   "cell_type": "code",
   "execution_count": null,
   "metadata": {
    "metadata": {}
   },
   "outputs": [],
   "source": [
    "!pip install easyocr\n",
    "!pip install boto3\n",
    "!pip install transformers\n",
    "!pip install pdf2image"
   ]
  },
  {
   "cell_type": "code",
   "execution_count": 67,
   "metadata": {
    "metadata": {}
   },
   "outputs": [],
   "source": [
    "import easyocr\n",
    "from pdf2image import convert_from_path\n",
    "import os\n",
    "import numpy as np\n",
    "import boto3\n",
    "import json\n",
    "import re\n",
    "from botocore.exceptions import ClientError"
   ]
  },
  {
   "cell_type": "code",
   "execution_count": 74,
   "metadata": {
    "metadata": {}
   },
   "outputs": [],
   "source": [
    "def ocr_doc(pdf_path):\n",
    "    ocr_text = ''\n",
    "    reader = easyocr.Reader(ocr_langs)\n",
    "    if pdf_path.endswith('.pdf'):\n",
    "        images = convert_from_path(pdf_path)\n",
    "        ocr_result = []\n",
    "        for image in images:\n",
    "            ocr_result.extend(reader.readtext(np.array(image)))\n",
    "    else:\n",
    "        ocr_result = reader.readtext(path)\n",
    "    for res in ocr_result:\n",
    "        ocr_text += res[1] + '\\n'\n",
    "    return ocr_text.strip()\n",
    "    "
   ]
  },
  {
   "cell_type": "code",
   "execution_count": 119,
   "metadata": {
    "metadata": {}
   },
   "outputs": [],
   "source": [
    "def extract_cv_info_with_bedrock(raw_txt):\n",
    "    prompt = f\"\"\"\n",
    "You are an expert at extracting structured information from unstructured text.\n",
    "Do not make up any information.\n",
    "Extract the following information from the resume text below:\n",
    "1. Full Name\n",
    "2. Email Address\n",
    "3. Phone Number\n",
    "4. Location\n",
    "5. Skills (list of skills)\n",
    "6. Work Experience (list of job titles and companies)\n",
    "7. Education (list of degrees and institutions)\n",
    "8. Certifications (list of certifications)\n",
    "9. Languages (list of languages spoken)\n",
    "10. Projects (list of notable projects with descriptions and duration)\n",
    "11. Summary (a brief summary of the candidate)\n",
    "12. LinkedIn Profile (URL of the LinkedIn profile)\n",
    "13. GitHub Profile (URL of the GitHub profile)\n",
    "14. Portfolio Website (URL of the portfolio website)\n",
    "15. References (list of references if available)\n",
    "Format the output as a JSON object with the above fields. If any information is not available, use \"Not Available\" as the value.\n",
    "The JSON format must adhere to the following structure:\n",
    "{{\n",
    "  \"full_name\": \"string\",\n",
    "  \"email_address\": \"string\",\n",
    "  \"phone_number\": \"string\",\n",
    "  \"location\": \"string\",\n",
    "  \"summary\": \"string\",\n",
    "  \"linkedin_profile\": \"URL string or null\",\n",
    "  \"github_profile\": \"URL string or null\",\n",
    "  \"portfolio_website\": \"URL string or null\",\n",
    "  \"skills\": [\"string\", \"string\", \"...\"],\n",
    "  \"work_experience\": [\n",
    "    {{\n",
    "      \"job_title\": \"string\",\n",
    "      \"company\": \"string\",\n",
    "      \"duration\": \"string\",\n",
    "      \"description\": \"string\"\n",
    "    }}\n",
    "  ],\n",
    "  \"education\": [\n",
    "    {{\n",
    "      \"degree\": \"string\",\n",
    "      \"institution\": \"string\",\n",
    "      \"graduation_year\": \"string\"\n",
    "    }}\n",
    "  ],\n",
    "  \"certifications\": [\"string\", \"string\", \"...\"],\n",
    "  \"languages\": [\"string\", \"string\", \"...\"],\n",
    "  \"projects\": [\"string\", \"string\", \"...\"],\n",
    "  \"references\": [\"string\", \"string\", \"...\"]\n",
    "}}\n",
    "Here is the resume text: {raw_txt}\n",
    "\"\"\"\n",
    "    client = boto3.client('bedrock-runtime', region_name='ap-southeast-1')\n",
    "    try:\n",
    "      request = {\n",
    "          \"modelId\": \"arn:aws:bedrock:ap-southeast-1:677020944766:inference-profile/apac.amazon.nova-lite-v1:0\",\n",
    "          \"messages\": [\n",
    "              {\n",
    "                  \"role\": \"user\",\n",
    "                  \"content\": [{\"text\": prompt}]\n",
    "              }\n",
    "          ],\n",
    "          \"inferenceConfig\": {\n",
    "              \"maxTokens\": 2000,\n",
    "              \"temperature\": 0.1,\n",
    "              \"topP\": 0.9\n",
    "          }\n",
    "      }\n",
    "\n",
    "      # Gọi Converse API\n",
    "      response = client.converse(\n",
    "          modelId=request[\"modelId\"],\n",
    "          messages=request[\"messages\"],\n",
    "          inferenceConfig=request[\"inferenceConfig\"]\n",
    "      )\n",
    "\n",
    "      # Lấy text response\n",
    "      response_text = response[\"output\"][\"message\"][\"content\"][0][\"text\"].strip()\n",
    "\n",
    "      # Parse JSON từ response\n",
    "      try:\n",
    "          if response_text.startswith(\"```json\"):\n",
    "              response_text = response_text.replace(\"```json\", \"\").strip()\n",
    "          if response_text.endswith(\"```\"):\n",
    "                response_text = response_text.rstrip(\"```\").strip()\n",
    "          extracted_json = json.loads(response_text)\n",
    "      except json.JSONDecodeError:\n",
    "          extracted_json = {\"error\": \"Failed to parse JSON\"}\n",
    "\n",
    "      return extracted_json\n",
    "\n",
    "    except Exception as e:\n",
    "      return {\"error\": f\"Bedrock invocation failed: {str(e)}\"}\n",
    "    "
   ]
  },
  {
   "cell_type": "code",
   "execution_count": 125,
   "metadata": {
    "metadata": {}
   },
   "outputs": [],
   "source": [
    "def extract_job_desc_info_with_bedrock(raw_txt):\n",
    "    prompt = f\"\"\"\n",
    "You are an expert at extracting structured information from unstructured text.\n",
    "Do not make up any information.\n",
    "Extract the following information from the job description text below:\n",
    "1. Job Title\n",
    "2. Company Name\n",
    "3. Location\n",
    "4. Job Type (e.g., full-time, part-time, remote)\n",
    "5. Salary Range\n",
    "6. Responsibilities (list of key responsibilities)\n",
    "7. Requirements (list of required skills, education, and experience)\n",
    "8. Benefits (list of benefits offered)\n",
    "9. Application Instructions (how to apply)\n",
    "10. Contact Information (email or phone if available)\n",
    "11. Company Website (URL if available)\n",
    "12. Posting Date (date the job was posted if available)\n",
    "13. Required Certifications (list if any)\n",
    "14. Preferred Languages (list if any)\n",
    "Format the output as a JSON object with the above fields. If any information is not available, use \"Not Available\" as the value.\n",
    "The JSON format must adhere to the following structure:\n",
    "{{\n",
    "  \"job_title\": \"string\",\n",
    "  \"company_name\": \"string\",\n",
    "  \"location\": \"string\",\n",
    "  \"job_type\": \"string\",\n",
    "  \"salary_range\": \"string\",\n",
    "  \"company_website\": \"URL string or null\",\n",
    "  \"posting_date\": \"string\",\n",
    "  \"contact_information\": \"string\",\n",
    "  \"responsibilities\": [\"string\", \"string\", \"...\"],\n",
    "  \"requirements\": [\"string\", \"string\", \"...\"],\n",
    "  \"benefits\": [\"string\", \"string\", \"...\"],\n",
    "  \"application_instructions\": \"string\",\n",
    "  \"required_certifications\": [\"string\", \"string\", \"...\"],\n",
    "  \"preferred_languages\": [\"string\", \"string\", \"...\"]\n",
    "}}\n",
    "Here is the job description text: {raw_txt}\n",
    "\"\"\"\n",
    "    client = boto3.client('bedrock-runtime', region_name='ap-southeast-1')\n",
    "    try:\n",
    "      request = {\n",
    "          \"modelId\": \"arn:aws:bedrock:ap-southeast-1:677020944766:inference-profile/apac.amazon.nova-lite-v1:0\",\n",
    "          \"messages\": [\n",
    "              {\n",
    "                  \"role\": \"user\",\n",
    "                  \"content\": [{\"text\": prompt}]\n",
    "              }\n",
    "          ],\n",
    "          \"inferenceConfig\": {\n",
    "              \"maxTokens\": 2000,\n",
    "              \"temperature\": 0.1,\n",
    "              \"topP\": 0.9\n",
    "          }\n",
    "      }\n",
    "\n",
    "      # Gọi Converse API\n",
    "      response = client.converse(\n",
    "          modelId=request[\"modelId\"],\n",
    "          messages=request[\"messages\"],\n",
    "          inferenceConfig=request[\"inferenceConfig\"]\n",
    "      )\n",
    "\n",
    "      # Lấy text response\n",
    "      response_text = response[\"output\"][\"message\"][\"content\"][0][\"text\"].strip()\n",
    "\n",
    "      # Parse JSON từ response\n",
    "      try:\n",
    "          if response_text.startswith(\"```json\"):\n",
    "              response_text = response_text.replace(\"```json\", \"\").strip()\n",
    "          if response_text.endswith(\"```\"):\n",
    "              response_text = response_text.rstrip(\"```\").strip()\n",
    "          extracted_json = json.loads(response_text)\n",
    "      except json.JSONDecodeError:\n",
    "          extracted_json = {\"error\": \"Failed to parse JSON\"}\n",
    "\n",
    "      return extracted_json\n",
    "\n",
    "    except Exception as e:\n",
    "      return {\"error\": f\"Bedrock invocation failed: {str(e)}\"}"
   ]
  },
  {
   "cell_type": "code",
   "execution_count": 118,
   "metadata": {
    "metadata": {}
   },
   "outputs": [
    {
     "name": "stderr",
     "output_type": "stream",
     "text": [
      "/Users/phucnguyen/miniconda3/lib/python3.13/site-packages/torch/utils/data/dataloader.py:684: UserWarning: 'pin_memory' argument is set as true but not supported on MPS now, then device pinned memory won't be used.\n",
      "  warnings.warn(warn_msg)\n"
     ]
    }
   ],
   "source": [
    "cv_path = \"../data/cv/test.jpg\"\n",
    "ocr_langs = ['en']\n",
    "raw_txt = ocr_doc(cv_path)"
   ]
  },
  {
   "cell_type": "code",
   "execution_count": 120,
   "metadata": {
    "metadata": {}
   },
   "outputs": [
    {
     "name": "stdout",
     "output_type": "stream",
     "text": [
      "{'full_name': 'Remy Bertrand', 'email_address': 'JosephFavreau@gmail.com', 'phone_number': '0485435365', 'location': '15, boulevard Admiral Courbet, 69600 OULUNS, Country', 'summary': 'Dynamic manager with more than X years experience in sales and business development, negotiation, account management. Proven ability to achieve sales targets and significantly increase revenue. Results-oriented, motivated, and focused on customer satisfaction.', 'linkedin_profile': 'Not Available', 'github_profile': 'Not Available', 'portfolio_website': 'Not Available', 'skills': ['Sales management', 'Business development', 'Commercial negotiating', 'Account management', 'Customer service', 'Market analysis', 'Sales forecasting', 'Contract negotiation', 'Team leadership', 'Sales reporting', 'Performance analysis'], 'work_experience': [{'job_title': 'Sales Manager', 'company': 'Company ABC', 'duration': 'January 20XX - present', 'description': 'Lead team of X sales reps, develop and implement sales strategies, meet and exceed monthly and annual sales targets, build strong relationships with existing customers and key accounts, negotiate contracts and agreements with clients, prepare sales reports, perform analysis.'}, {'job_title': 'Sales Representative', 'company': 'Company XYZ', 'duration': 'January 20XX - December 20XX', 'description': 'Manage portfolio of clients and develop new business relationships, present products and services to potential customers, negotiate terms of sale and conclude contracts successfully, collaborate with internal teams to ensure customer satisfaction and resolve any issues, achieve and exceed assigned sales targets.'}, {'job_title': 'Sales Representative', 'company': 'Company XYZ', 'duration': 'January 20XX - December 20XX', 'description': 'Manage portfolio of clients and develop new business relationships, present products and services to potential customers, negotiate terms of sale and conclude contracts successfully, collaborate with internal teams to ensure customer satisfaction and resolve any issues, achieve and exceed assigned sales targets.'}], 'education': [{'degree': 'Bachelor in Business Administration', 'institution': 'XYZ University', 'graduation_year': 'Year'}], 'certifications': ['Not Available'], 'languages': ['French', 'English (Level B2)'], 'projects': ['Not Available'], 'references': ['Not Available']}\n"
     ]
    }
   ],
   "source": [
    "res = extract_cv_info_with_bedrock(raw_txt)\n",
    "print(res)"
   ]
  },
  {
   "cell_type": "code",
   "execution_count": 128,
   "metadata": {
    "metadata": {}
   },
   "outputs": [
    {
     "name": "stderr",
     "output_type": "stream",
     "text": [
      "/Users/phucnguyen/miniconda3/lib/python3.13/site-packages/torch/utils/data/dataloader.py:684: UserWarning: 'pin_memory' argument is set as true but not supported on MPS now, then device pinned memory won't be used.\n",
      "  warnings.warn(warn_msg)\n"
     ]
    },
    {
     "name": "stdout",
     "output_type": "stream",
     "text": [
      "Sample Job Description\n",
      "Job Title:\n",
      "Human Resources Assistant\n",
      "Job Description:\n",
      "This position reports to the Human Resources (HR) director and\n",
      "interfaces with company managers and HR staff: Company XYZ is\n",
      "committed to an employee-orientated, high performance culture that\n",
      "emphasizes empowerment; quality, continuous improvement, and the\n",
      "recruitment and ongoing development of a superior workforce.\n",
      "The intern will gain exposure\n",
      "to these functional areas:\n",
      "HR Information Systems; Employee relations; Training and development;\n",
      "Benefits; Compensation; Organization development; Employment\n",
      "Specific responsibilities:\n",
      "Employee orientation and training logistics and recordkeeping\n",
      "Company-wide committee facilitation and participation\n",
      "Employee safety, welfare, wellness and health reporting\n",
      "Provide direct support to employees during implementation of HR\n",
      "services, policies and programs\n",
      "What skills will the\n",
      "intern learn:\n",
      "Active participation in strategic planning process, including\n",
      "developing goals, objectives and processes\n",
      "How to engage professionally in HR meetings and seminars with\n",
      "other HR professionals in the region\n",
      "Gain experience with Human Resources Information system\n",
      "HRIS)\n",
      "database management and record keeping\n",
      "Application of HR law and compliance with governmental regulations\n",
      "Qualifications:\n",
      "Proficient with Microsoft Word and Excel\n",
      "General knowledge of employment law and practices\n",
      "Able to maintain a high level of confidentiality\n",
      "Effective oral and written management communication skills\n"
     ]
    }
   ],
   "source": [
    "jd_path = \"../data/cv/sample-job-description.pdf\"\n",
    "ocr_langs = ['en']\n",
    "raw_txt = ocr_doc(jd_path)\n",
    "print(raw_txt.strip())"
   ]
  },
  {
   "cell_type": "code",
   "execution_count": 129,
   "metadata": {
    "metadata": {}
   },
   "outputs": [
    {
     "name": "stdout",
     "output_type": "stream",
     "text": [
      "{'job_title': 'Human Resources Assistant', 'company_name': 'Company XYZ', 'location': 'Not Available', 'job_type': 'Not Available', 'salary_range': 'Not Available', 'company_website': 'Not Available', 'posting_date': 'Not Available', 'contact_information': 'Not Available', 'responsibilities': ['Employee orientation and training logistics and recordkeeping', 'Company-wide committee facilitation and participation', 'Employee safety, welfare, wellness and health reporting', 'Provide direct support to employees during implementation of HR services, policies and programs'], 'requirements': ['Proficient with Microsoft Word and Excel', 'General knowledge of employment law and practices', 'Able to maintain a high level of confidentiality', 'Effective oral and written management communication skills'], 'benefits': ['Not Available'], 'application_instructions': 'Not Available', 'required_certifications': ['Not Available'], 'preferred_languages': ['Not Available']}\n"
     ]
    }
   ],
   "source": [
    "res = extract_job_desc_info_with_bedrock(raw_txt)\n",
    "print(res)"
   ]
  }
 ],
 "metadata": {
  "kernelspec": {
   "display_name": "base",
   "language": "python",
   "name": "python3"
  },
  "language_info": {
   "codemirror_mode": {
    "name": "ipython",
    "version": 3
   },
   "file_extension": ".py",
   "mimetype": "text/x-python",
   "name": "python",
   "nbconvert_exporter": "python",
   "pygments_lexer": "ipython3",
   "version": "3.13.5"
  }
 },
 "nbformat": 4,
 "nbformat_minor": 2
}
